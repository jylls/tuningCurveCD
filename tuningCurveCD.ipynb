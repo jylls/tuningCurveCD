{
 "cells": [
  {
   "cell_type": "code",
   "execution_count": 1,
   "metadata": {
    "collapsed": false
   },
   "outputs": [
    {
     "name": "stderr",
     "output_type": "stream",
     "text": [
      "WARNING    You are using the bridge between Brian 2 and Brian Hears from Brian 1. This is not guaranteed to work in all cases that brian.hears works. See the limitations in the online documentation. [brian2.hears]\n"
     ]
    }
   ],
   "source": [
    "%matplotlib inline\n",
    "import warnings\n",
    "from brian2 import *\n",
    "from brian2.hears import *\n",
    "import ipywidgets as ipw\n",
    "from scipy.optimize import curve_fit\n"
   ]
  },
  {
   "cell_type": "code",
   "execution_count": 2,
   "metadata": {
    "collapsed": true
   },
   "outputs": [],
   "source": [
    "warnings.filterwarnings(\"ignore\")\n",
    "def tunCurve(index,numItds,freq,timeConst,numrep):\n",
    "    sound=tone(freq*Hz, 1*second)                 \n",
    "    sound.level=90*dB\n",
    "    hset = HeadlessDatabase(numItds).load_subject()    \n",
    "    #print hset.coordinates['itd']\n",
    "    \n",
    "    num_indices = hset.num_indices   \n",
    "    \n",
    "    hf = hset.hrtf[index]\n",
    "    hf_fb = hf.filterbank(sound)\n",
    "    \n",
    "    \n",
    "    cochlea = FunctionFilterbank(hf_fb, lambda x:15*clip(x, 0, Inf)**(1.0/3.0))\n",
    "    # Leaky integrate and fire neuron model\n",
    "    eqs = '''\n",
    "    dV/dt = (I-V)/(1*ms)+0.1*xi/(0.5*ms)**.5 : 1\n",
    "    I : 1\n",
    "    '''\n",
    "    \n",
    "    eqscd = '''\n",
    "    dV/dt = (I-V)/(timeConst*ms)+0.1*xi/(0.5*ms)**.5 : 1\n",
    "    I : 1\n",
    "    '''\n",
    "    \n",
    "    \n",
    "    \n",
    "    G = FilterbankGroup(cochlea, 'I', eqs, reset='V=0', threshold='V>1', refractory=5*ms)\n",
    "    # The coincidence detector (cd) neurons\n",
    "    cd = NeuronGroup(numrep, eqscd, reset='V=0', threshold='V>1', clock=G.clock)\n",
    "    C = Synapses(G, cd, 'we:1', pre='V += we')\n",
    "    C.connect(True)\n",
    "    for i in xrange(numrep):\n",
    "        C.we[0,i]=0.6\n",
    "        C.we[1,i]=0.6  \n",
    "    \n",
    "    \n",
    "    MG=SpikeMonitor(G)\n",
    "    Mcd=SpikeMonitor(cd)\n",
    "    \n",
    "    run(1*second)\n",
    "    \n",
    "    nsp=Mcd.num_spikes\n",
    "   \n",
    "    return nsp"
   ]
  },
  {
   "cell_type": "code",
   "execution_count": 3,
   "metadata": {
    "collapsed": false
   },
   "outputs": [],
   "source": [
    "def plottc(numItds=20,freq=500,timeConst=1,numrep=100):\n",
    "    itds= HeadlessDatabase(numItds).load_subject().coordinates['itd']\n",
    "    fr=np.zeros(numItds)\n",
    "    gauss=np.zeros(numItds)\n",
    "    \n",
    "    for i in xrange(numItds):\n",
    "        fr[i]=tunCurve(i,numItds,freq, timeConst,numrep)\n",
    "    \n",
    "    def gaus(x,a,x0,sigma):\n",
    "        return a*exp(-(x-x0)**2/(2*sigma**2))\n",
    "    \n",
    "  \n",
    "    \n",
    "    popt,pcov =curve_fit(gaus,itds,fr,p0=[max(fr),0,1])\n",
    "    \n",
    "    plot(itds,fr,'b')   \n",
    "    plot(itds,gaus(itds,*popt),'r')\n",
    "  \n",
    "    show()   "
   ]
  },
  {
   "cell_type": "code",
   "execution_count": 4,
   "metadata": {
    "collapsed": false
   },
   "outputs": [
    {
     "name": "stderr",
     "output_type": "stream",
     "text": [
      "WARNING    The 'pre' keyword is deprecated, use 'on_pre' instead. [brian2.synapses.synapses.deprecated_pre]\n",
      "INFO       No numerical integration method specified for group 'neurongroup_1', using method 'euler' (took 0.03s, trying other methods took 0.00s). [brian2.stateupdaters.base.method_choice]\n",
      "INFO       No numerical integration method specified for group 'neurongroup', using method 'euler' (took 0.02s, trying other methods took 0.00s). [brian2.stateupdaters.base.method_choice]\n",
      "WARNING    Note that the synaptic pathway 'synapses_pre' will run on the clock of the group 'neurongroup' using a dt of 22.67573696 us. Either the Synapses object 'synapses' or the target 'neurongroup_1' (or both) are using a different dt. This might lead to unexpected results. In particular, all delays will be rounded to multiples of 22.67573696 us. If in doubt, try to ensure that 'neurongroup', 'synapses', and 'neurongroup_1' use the same dt. [brian2.synapses.synapses.synapses_dt_mismatch]\n",
      "INFO       No numerical integration method specified for group 'neurongroup_2', using method 'euler' (took 0.01s, trying other methods took 0.00s). [brian2.stateupdaters.base.method_choice]\n",
      "INFO       No numerical integration method specified for group 'neurongroup_3', using method 'euler' (took 0.01s, trying other methods took 0.00s). [brian2.stateupdaters.base.method_choice]\n",
      "WARNING    Note that the synaptic pathway 'synapses_pre' will run on the clock of the group 'neurongroup_2' using a dt of 22.67573696 us. Either the Synapses object 'synapses' or the target 'neurongroup_3' (or both) are using a different dt. This might lead to unexpected results. In particular, all delays will be rounded to multiples of 22.67573696 us. If in doubt, try to ensure that 'neurongroup_2', 'synapses', and 'neurongroup_3' use the same dt. [brian2.synapses.synapses.synapses_dt_mismatch]\n",
      "INFO       No numerical integration method specified for group 'neurongroup_1', using method 'euler' (took 0.01s, trying other methods took 0.00s). [brian2.stateupdaters.base.method_choice]\n",
      "INFO       No numerical integration method specified for group 'neurongroup', using method 'euler' (took 0.01s, trying other methods took 0.00s). [brian2.stateupdaters.base.method_choice]\n",
      "INFO       No numerical integration method specified for group 'neurongroup_2', using method 'euler' (took 0.01s, trying other methods took 0.00s). [brian2.stateupdaters.base.method_choice]\n",
      "INFO       No numerical integration method specified for group 'neurongroup_3', using method 'euler' (took 0.01s, trying other methods took 0.00s). [brian2.stateupdaters.base.method_choice]\n",
      "INFO       No numerical integration method specified for group 'neurongroup_1', using method 'euler' (took 0.01s, trying other methods took 0.00s). [brian2.stateupdaters.base.method_choice]\n",
      "INFO       No numerical integration method specified for group 'neurongroup', using method 'euler' (took 0.01s, trying other methods took 0.00s). [brian2.stateupdaters.base.method_choice]\n",
      "INFO       No numerical integration method specified for group 'neurongroup_2', using method 'euler' (took 0.01s, trying other methods took 0.00s). [brian2.stateupdaters.base.method_choice]\n",
      "INFO       No numerical integration method specified for group 'neurongroup_3', using method 'euler' (took 0.02s, trying other methods took 0.00s). [brian2.stateupdaters.base.method_choice]\n",
      "INFO       No numerical integration method specified for group 'neurongroup_1', using method 'euler' (took 0.01s, trying other methods took 0.00s). [brian2.stateupdaters.base.method_choice]\n",
      "INFO       No numerical integration method specified for group 'neurongroup', using method 'euler' (took 0.01s, trying other methods took 0.00s). [brian2.stateupdaters.base.method_choice]\n",
      "INFO       No numerical integration method specified for group 'neurongroup_2', using method 'euler' (took 0.01s, trying other methods took 0.00s). [brian2.stateupdaters.base.method_choice]\n",
      "INFO       No numerical integration method specified for group 'neurongroup_3', using method 'euler' (took 0.01s, trying other methods took 0.00s). [brian2.stateupdaters.base.method_choice]\n",
      "INFO       No numerical integration method specified for group 'neurongroup_1', using method 'euler' (took 0.01s, trying other methods took 0.00s). [brian2.stateupdaters.base.method_choice]\n",
      "INFO       No numerical integration method specified for group 'neurongroup', using method 'euler' (took 0.01s, trying other methods took 0.00s). [brian2.stateupdaters.base.method_choice]\n",
      "INFO       No numerical integration method specified for group 'neurongroup_2', using method 'euler' (took 0.01s, trying other methods took 0.00s). [brian2.stateupdaters.base.method_choice]\n",
      "INFO       No numerical integration method specified for group 'neurongroup_3', using method 'euler' (took 0.01s, trying other methods took 0.00s). [brian2.stateupdaters.base.method_choice]\n"
     ]
    },
    {
     "data": {
      "image/png": "[encoded data removed]",
      "text/plain": [
       "<matplotlib.figure.Figure at 0x7fe6874d5090>"
      ]
     },
     "metadata": {},
     "output_type": "display_data"
    },
    {
     "data": {
      "text/plain": [
       "<function __main__.plottc>"
      ]
     },
     "execution_count": 4,
     "metadata": {},
     "output_type": "execute_result"
    }
   ],
   "source": [
    "ipw.interact(plottc,numItds=ipw.IntSlider(min=10, max=100, value=10, step=10, continuous_update=False),\n",
    "             freq=ipw.IntSlider(min=100, max=10000, value=500, step=100, continuous_update=False),\n",
    "             timeConst=ipw.IntSlider(min=1, max=10, value=1, step=1, continuous_update=False),\n",
    "             numrep=ipw.IntSlider(min=10, max=500, value=50, step=10, continuous_update=False))\n",
    "             \n",
    "             \n",
    "             \n",
    "             "
   ]
  },
  {
   "cell_type": "code",
   "execution_count": null,
   "metadata": {
    "collapsed": true
   },
   "outputs": [],
   "source": []
  },
  {
   "cell_type": "code",
   "execution_count": null,
   "metadata": {
    "collapsed": true
   },
   "outputs": [],
   "source": []
  }
 ],
 "metadata": {
  "kernelspec": {
   "display_name": "Python 2",
   "language": "python",
   "name": "python2"
  },
  "language_info": {
   "codemirror_mode": {
    "name": "ipython",
    "version": 2
   },
   "file_extension": ".py",
   "mimetype": "text/x-python",
   "name": "python",
   "nbconvert_exporter": "python",
   "pygments_lexer": "ipython2",
   "version": "2.7.12"
  },
  "widgets": {
   "state": {
    "9a69673aad43416fa996b40fae67f5cc": {
     "views": [
      {
       "cell_index": 3
      }
     ]
    }
   },
   "version": "1.2.0"
  }
 },
 "nbformat": 4,
 "nbformat_minor": 1
}
